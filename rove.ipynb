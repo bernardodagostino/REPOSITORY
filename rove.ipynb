{
 "cells": [
  {
   "cell_type": "code",
   "execution_count": 6,
   "metadata": {},
   "outputs": [
    {
     "name": "stdout",
     "output_type": "stream",
     "text": [
      "Some values appear twice in latitude and longitude columns\n",
      "Some values appear twice in latitude and longitude columns at the same time\n",
      "      custody_id participant_age_group participant_gender participant_status  \\\n",
      "0             10             Adult 18+               Male           Arrested   \n",
      "4949          11             Adult 18+               Male           Arrested   \n",
      "7088          12             Adult 18+               Male             Killed   \n",
      "7089          13             Adult 18+               Male            Injured   \n",
      "7090          14             Adult 18+               Male            Injured   \n",
      "7091      318845             Adult 18+               Male            Injured   \n",
      "\n",
      "     participant_type  latitude  longitude  gun_stolen    gun_type  \\\n",
      "0             Suspect   41.4455   -82.1377      Stolen     Shotgun   \n",
      "4949          Suspect   41.4455   -82.1377      Stolen    380 Auto   \n",
      "7088           Victim   41.4455   -82.1377  Irrelevant  Irrelevant   \n",
      "7089           Victim   41.4455   -82.1377  Irrelevant  Irrelevant   \n",
      "7090           Victim   41.4455   -82.1377  Irrelevant  Irrelevant   \n",
      "7091           Victim   41.4455   -82.1377  Irrelevant  Irrelevant   \n",
      "\n",
      "      incident_id  date_fk  \n",
      "0               2        0  \n",
      "4949            2        0  \n",
      "7088            2        0  \n",
      "7089            2        0  \n",
      "7090            2        0  \n",
      "7091       179593     1270  \n"
     ]
    }
   ],
   "source": [
    "# load police.csv in a pandas dataframe\n",
    "import pandas as pd\n",
    "# first row is column names\n",
    "df = pd.read_csv('DATA/Police.csv', )\n",
    "\n",
    "# check if some values appera twice in latitude and longitude columns\n",
    "if df[['latitude', 'longitude']].duplicated().any():\n",
    "    print('Some values appear twice in latitude and longitude columns')\n",
    "else:\n",
    "    print('No duplicates found')\n",
    "\n",
    "if df.duplicated(subset=['latitude', 'longitude'], keep=False).any():\n",
    "    print('Some values appear twice in latitude and longitude columns at the same time')\n",
    "else:\n",
    "    print('No duplicates found')\n",
    "\n",
    "duplicates = df.duplicated(subset=['latitude', 'longitude'], keep=False)\n",
    "#print(df[duplicates][['latitude', 'longitude']])\n",
    "\n",
    "# print all observations with latitude 41.4455   \n",
    "print(df[df['latitude'] == 41.4455])"
   ]
  }
 ],
 "metadata": {
  "kernelspec": {
   "display_name": "Python 3",
   "language": "python",
   "name": "python3"
  },
  "language_info": {
   "codemirror_mode": {
    "name": "ipython",
    "version": 3
   },
   "file_extension": ".py",
   "mimetype": "text/x-python",
   "name": "python",
   "nbconvert_exporter": "python",
   "pygments_lexer": "ipython3",
   "version": "3.10.7"
  }
 },
 "nbformat": 4,
 "nbformat_minor": 2
}
